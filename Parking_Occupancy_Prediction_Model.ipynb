{
  "cells": [
    {
      "cell_type": "code",
      "execution_count": 37,
      "metadata": {
        "colab": {
          "base_uri": "https://localhost:8080/"
        },
        "id": "fq_fXxInAhAP",
        "outputId": "09082fe9-fd1b-47a7-be80-b6ae8342b1be"
      },
      "outputs": [
        {
          "output_type": "stream",
          "name": "stdout",
          "text": [
            "Drive already mounted at /content/drive; to attempt to forcibly remount, call drive.mount(\"/content/drive\", force_remount=True).\n"
          ]
        }
      ],
      "source": [
        "# mounting drive\n",
        "\n",
        "from google.colab import drive\n",
        "drive.mount('/content/drive')"
      ],
      "id": "fq_fXxInAhAP"
    },
    {
      "cell_type": "code",
      "execution_count": 38,
      "metadata": {
        "colab": {
          "base_uri": "https://localhost:8080/"
        },
        "id": "a3971e0b",
        "outputId": "096ceed1-a4ac-4c81-b36e-abc1d94de61f"
      },
      "outputs": [
        {
          "output_type": "stream",
          "name": "stdout",
          "text": [
            "Requirement already satisfied: tensorflow-gpu in /usr/local/lib/python3.7/dist-packages (2.8.0)\n",
            "Requirement already satisfied: keras-preprocessing>=1.1.1 in /usr/local/lib/python3.7/dist-packages (from tensorflow-gpu) (1.1.2)\n",
            "Requirement already satisfied: tensorboard<2.9,>=2.8 in /usr/local/lib/python3.7/dist-packages (from tensorflow-gpu) (2.8.0)\n",
            "Requirement already satisfied: h5py>=2.9.0 in /usr/local/lib/python3.7/dist-packages (from tensorflow-gpu) (3.1.0)\n",
            "Requirement already satisfied: libclang>=9.0.1 in /usr/local/lib/python3.7/dist-packages (from tensorflow-gpu) (13.0.0)\n",
            "Requirement already satisfied: six>=1.12.0 in /usr/local/lib/python3.7/dist-packages (from tensorflow-gpu) (1.15.0)\n",
            "Requirement already satisfied: astunparse>=1.6.0 in /usr/local/lib/python3.7/dist-packages (from tensorflow-gpu) (1.6.3)\n",
            "Requirement already satisfied: protobuf>=3.9.2 in /usr/local/lib/python3.7/dist-packages (from tensorflow-gpu) (3.17.3)\n",
            "Requirement already satisfied: wrapt>=1.11.0 in /usr/local/lib/python3.7/dist-packages (from tensorflow-gpu) (1.14.0)\n",
            "Requirement already satisfied: gast>=0.2.1 in /usr/local/lib/python3.7/dist-packages (from tensorflow-gpu) (0.5.3)\n",
            "Requirement already satisfied: tensorflow-io-gcs-filesystem>=0.23.1 in /usr/local/lib/python3.7/dist-packages (from tensorflow-gpu) (0.24.0)\n",
            "Requirement already satisfied: numpy>=1.20 in /usr/local/lib/python3.7/dist-packages (from tensorflow-gpu) (1.21.6)\n",
            "Requirement already satisfied: keras<2.9,>=2.8.0rc0 in /usr/local/lib/python3.7/dist-packages (from tensorflow-gpu) (2.8.0)\n",
            "Requirement already satisfied: setuptools in /usr/local/lib/python3.7/dist-packages (from tensorflow-gpu) (57.4.0)\n",
            "Requirement already satisfied: typing-extensions>=3.6.6 in /usr/local/lib/python3.7/dist-packages (from tensorflow-gpu) (4.1.1)\n",
            "Requirement already satisfied: absl-py>=0.4.0 in /usr/local/lib/python3.7/dist-packages (from tensorflow-gpu) (1.0.0)\n",
            "Requirement already satisfied: termcolor>=1.1.0 in /usr/local/lib/python3.7/dist-packages (from tensorflow-gpu) (1.1.0)\n",
            "Requirement already satisfied: opt-einsum>=2.3.2 in /usr/local/lib/python3.7/dist-packages (from tensorflow-gpu) (3.3.0)\n",
            "Requirement already satisfied: tf-estimator-nightly==2.8.0.dev2021122109 in /usr/local/lib/python3.7/dist-packages (from tensorflow-gpu) (2.8.0.dev2021122109)\n",
            "Requirement already satisfied: grpcio<2.0,>=1.24.3 in /usr/local/lib/python3.7/dist-packages (from tensorflow-gpu) (1.44.0)\n",
            "Requirement already satisfied: google-pasta>=0.1.1 in /usr/local/lib/python3.7/dist-packages (from tensorflow-gpu) (0.2.0)\n",
            "Requirement already satisfied: flatbuffers>=1.12 in /usr/local/lib/python3.7/dist-packages (from tensorflow-gpu) (2.0)\n",
            "Requirement already satisfied: wheel<1.0,>=0.23.0 in /usr/local/lib/python3.7/dist-packages (from astunparse>=1.6.0->tensorflow-gpu) (0.37.1)\n",
            "Requirement already satisfied: cached-property in /usr/local/lib/python3.7/dist-packages (from h5py>=2.9.0->tensorflow-gpu) (1.5.2)\n",
            "Requirement already satisfied: tensorboard-plugin-wit>=1.6.0 in /usr/local/lib/python3.7/dist-packages (from tensorboard<2.9,>=2.8->tensorflow-gpu) (1.8.1)\n",
            "Requirement already satisfied: werkzeug>=0.11.15 in /usr/local/lib/python3.7/dist-packages (from tensorboard<2.9,>=2.8->tensorflow-gpu) (1.0.1)\n",
            "Requirement already satisfied: markdown>=2.6.8 in /usr/local/lib/python3.7/dist-packages (from tensorboard<2.9,>=2.8->tensorflow-gpu) (3.3.6)\n",
            "Requirement already satisfied: tensorboard-data-server<0.7.0,>=0.6.0 in /usr/local/lib/python3.7/dist-packages (from tensorboard<2.9,>=2.8->tensorflow-gpu) (0.6.1)\n",
            "Requirement already satisfied: requests<3,>=2.21.0 in /usr/local/lib/python3.7/dist-packages (from tensorboard<2.9,>=2.8->tensorflow-gpu) (2.23.0)\n",
            "Requirement already satisfied: google-auth-oauthlib<0.5,>=0.4.1 in /usr/local/lib/python3.7/dist-packages (from tensorboard<2.9,>=2.8->tensorflow-gpu) (0.4.6)\n",
            "Requirement already satisfied: google-auth<3,>=1.6.3 in /usr/local/lib/python3.7/dist-packages (from tensorboard<2.9,>=2.8->tensorflow-gpu) (1.35.0)\n",
            "Requirement already satisfied: pyasn1-modules>=0.2.1 in /usr/local/lib/python3.7/dist-packages (from google-auth<3,>=1.6.3->tensorboard<2.9,>=2.8->tensorflow-gpu) (0.2.8)\n",
            "Requirement already satisfied: cachetools<5.0,>=2.0.0 in /usr/local/lib/python3.7/dist-packages (from google-auth<3,>=1.6.3->tensorboard<2.9,>=2.8->tensorflow-gpu) (4.2.4)\n",
            "Requirement already satisfied: rsa<5,>=3.1.4 in /usr/local/lib/python3.7/dist-packages (from google-auth<3,>=1.6.3->tensorboard<2.9,>=2.8->tensorflow-gpu) (4.8)\n",
            "Requirement already satisfied: requests-oauthlib>=0.7.0 in /usr/local/lib/python3.7/dist-packages (from google-auth-oauthlib<0.5,>=0.4.1->tensorboard<2.9,>=2.8->tensorflow-gpu) (1.3.1)\n",
            "Requirement already satisfied: importlib-metadata>=4.4 in /usr/local/lib/python3.7/dist-packages (from markdown>=2.6.8->tensorboard<2.9,>=2.8->tensorflow-gpu) (4.11.3)\n",
            "Requirement already satisfied: zipp>=0.5 in /usr/local/lib/python3.7/dist-packages (from importlib-metadata>=4.4->markdown>=2.6.8->tensorboard<2.9,>=2.8->tensorflow-gpu) (3.8.0)\n",
            "Requirement already satisfied: pyasn1<0.5.0,>=0.4.6 in /usr/local/lib/python3.7/dist-packages (from pyasn1-modules>=0.2.1->google-auth<3,>=1.6.3->tensorboard<2.9,>=2.8->tensorflow-gpu) (0.4.8)\n",
            "Requirement already satisfied: chardet<4,>=3.0.2 in /usr/local/lib/python3.7/dist-packages (from requests<3,>=2.21.0->tensorboard<2.9,>=2.8->tensorflow-gpu) (3.0.4)\n",
            "Requirement already satisfied: idna<3,>=2.5 in /usr/local/lib/python3.7/dist-packages (from requests<3,>=2.21.0->tensorboard<2.9,>=2.8->tensorflow-gpu) (2.10)\n",
            "Requirement already satisfied: urllib3!=1.25.0,!=1.25.1,<1.26,>=1.21.1 in /usr/local/lib/python3.7/dist-packages (from requests<3,>=2.21.0->tensorboard<2.9,>=2.8->tensorflow-gpu) (1.24.3)\n",
            "Requirement already satisfied: certifi>=2017.4.17 in /usr/local/lib/python3.7/dist-packages (from requests<3,>=2.21.0->tensorboard<2.9,>=2.8->tensorflow-gpu) (2021.10.8)\n",
            "Requirement already satisfied: oauthlib>=3.0.0 in /usr/local/lib/python3.7/dist-packages (from requests-oauthlib>=0.7.0->google-auth-oauthlib<0.5,>=0.4.1->tensorboard<2.9,>=2.8->tensorflow-gpu) (3.2.0)\n",
            "Requirement already satisfied: keras-tuner in /usr/local/lib/python3.7/dist-packages (1.1.2)\n",
            "Requirement already satisfied: kt-legacy in /usr/local/lib/python3.7/dist-packages (from keras-tuner) (1.0.4)\n",
            "Requirement already satisfied: requests in /usr/local/lib/python3.7/dist-packages (from keras-tuner) (2.23.0)\n",
            "Requirement already satisfied: tensorboard in /usr/local/lib/python3.7/dist-packages (from keras-tuner) (2.8.0)\n",
            "Requirement already satisfied: numpy in /usr/local/lib/python3.7/dist-packages (from keras-tuner) (1.21.6)\n",
            "Requirement already satisfied: ipython in /usr/local/lib/python3.7/dist-packages (from keras-tuner) (5.5.0)\n",
            "Requirement already satisfied: packaging in /usr/local/lib/python3.7/dist-packages (from keras-tuner) (21.3)\n",
            "Requirement already satisfied: pickleshare in /usr/local/lib/python3.7/dist-packages (from ipython->keras-tuner) (0.7.5)\n",
            "Requirement already satisfied: simplegeneric>0.8 in /usr/local/lib/python3.7/dist-packages (from ipython->keras-tuner) (0.8.1)\n",
            "Requirement already satisfied: pexpect in /usr/local/lib/python3.7/dist-packages (from ipython->keras-tuner) (4.8.0)\n",
            "Requirement already satisfied: traitlets>=4.2 in /usr/local/lib/python3.7/dist-packages (from ipython->keras-tuner) (5.1.1)\n",
            "Requirement already satisfied: decorator in /usr/local/lib/python3.7/dist-packages (from ipython->keras-tuner) (4.4.2)\n",
            "Requirement already satisfied: setuptools>=18.5 in /usr/local/lib/python3.7/dist-packages (from ipython->keras-tuner) (57.4.0)\n",
            "Requirement already satisfied: pygments in /usr/local/lib/python3.7/dist-packages (from ipython->keras-tuner) (2.6.1)\n",
            "Requirement already satisfied: prompt-toolkit<2.0.0,>=1.0.4 in /usr/local/lib/python3.7/dist-packages (from ipython->keras-tuner) (1.0.18)\n",
            "Requirement already satisfied: wcwidth in /usr/local/lib/python3.7/dist-packages (from prompt-toolkit<2.0.0,>=1.0.4->ipython->keras-tuner) (0.2.5)\n",
            "Requirement already satisfied: six>=1.9.0 in /usr/local/lib/python3.7/dist-packages (from prompt-toolkit<2.0.0,>=1.0.4->ipython->keras-tuner) (1.15.0)\n",
            "Requirement already satisfied: pyparsing!=3.0.5,>=2.0.2 in /usr/local/lib/python3.7/dist-packages (from packaging->keras-tuner) (3.0.8)\n",
            "Requirement already satisfied: ptyprocess>=0.5 in /usr/local/lib/python3.7/dist-packages (from pexpect->ipython->keras-tuner) (0.7.0)\n",
            "Requirement already satisfied: urllib3!=1.25.0,!=1.25.1,<1.26,>=1.21.1 in /usr/local/lib/python3.7/dist-packages (from requests->keras-tuner) (1.24.3)\n",
            "Requirement already satisfied: chardet<4,>=3.0.2 in /usr/local/lib/python3.7/dist-packages (from requests->keras-tuner) (3.0.4)\n",
            "Requirement already satisfied: certifi>=2017.4.17 in /usr/local/lib/python3.7/dist-packages (from requests->keras-tuner) (2021.10.8)\n",
            "Requirement already satisfied: idna<3,>=2.5 in /usr/local/lib/python3.7/dist-packages (from requests->keras-tuner) (2.10)\n",
            "Requirement already satisfied: google-auth<3,>=1.6.3 in /usr/local/lib/python3.7/dist-packages (from tensorboard->keras-tuner) (1.35.0)\n",
            "Requirement already satisfied: protobuf>=3.6.0 in /usr/local/lib/python3.7/dist-packages (from tensorboard->keras-tuner) (3.17.3)\n",
            "Requirement already satisfied: wheel>=0.26 in /usr/local/lib/python3.7/dist-packages (from tensorboard->keras-tuner) (0.37.1)\n",
            "Requirement already satisfied: tensorboard-plugin-wit>=1.6.0 in /usr/local/lib/python3.7/dist-packages (from tensorboard->keras-tuner) (1.8.1)\n",
            "Requirement already satisfied: absl-py>=0.4 in /usr/local/lib/python3.7/dist-packages (from tensorboard->keras-tuner) (1.0.0)\n",
            "Requirement already satisfied: grpcio>=1.24.3 in /usr/local/lib/python3.7/dist-packages (from tensorboard->keras-tuner) (1.44.0)\n",
            "Requirement already satisfied: google-auth-oauthlib<0.5,>=0.4.1 in /usr/local/lib/python3.7/dist-packages (from tensorboard->keras-tuner) (0.4.6)\n",
            "Requirement already satisfied: tensorboard-data-server<0.7.0,>=0.6.0 in /usr/local/lib/python3.7/dist-packages (from tensorboard->keras-tuner) (0.6.1)\n",
            "Requirement already satisfied: markdown>=2.6.8 in /usr/local/lib/python3.7/dist-packages (from tensorboard->keras-tuner) (3.3.6)\n",
            "Requirement already satisfied: werkzeug>=0.11.15 in /usr/local/lib/python3.7/dist-packages (from tensorboard->keras-tuner) (1.0.1)\n",
            "Requirement already satisfied: cachetools<5.0,>=2.0.0 in /usr/local/lib/python3.7/dist-packages (from google-auth<3,>=1.6.3->tensorboard->keras-tuner) (4.2.4)\n",
            "Requirement already satisfied: pyasn1-modules>=0.2.1 in /usr/local/lib/python3.7/dist-packages (from google-auth<3,>=1.6.3->tensorboard->keras-tuner) (0.2.8)\n",
            "Requirement already satisfied: rsa<5,>=3.1.4 in /usr/local/lib/python3.7/dist-packages (from google-auth<3,>=1.6.3->tensorboard->keras-tuner) (4.8)\n",
            "Requirement already satisfied: requests-oauthlib>=0.7.0 in /usr/local/lib/python3.7/dist-packages (from google-auth-oauthlib<0.5,>=0.4.1->tensorboard->keras-tuner) (1.3.1)\n",
            "Requirement already satisfied: importlib-metadata>=4.4 in /usr/local/lib/python3.7/dist-packages (from markdown>=2.6.8->tensorboard->keras-tuner) (4.11.3)\n",
            "Requirement already satisfied: zipp>=0.5 in /usr/local/lib/python3.7/dist-packages (from importlib-metadata>=4.4->markdown>=2.6.8->tensorboard->keras-tuner) (3.8.0)\n",
            "Requirement already satisfied: typing-extensions>=3.6.4 in /usr/local/lib/python3.7/dist-packages (from importlib-metadata>=4.4->markdown>=2.6.8->tensorboard->keras-tuner) (4.1.1)\n",
            "Requirement already satisfied: pyasn1<0.5.0,>=0.4.6 in /usr/local/lib/python3.7/dist-packages (from pyasn1-modules>=0.2.1->google-auth<3,>=1.6.3->tensorboard->keras-tuner) (0.4.8)\n",
            "Requirement already satisfied: oauthlib>=3.0.0 in /usr/local/lib/python3.7/dist-packages (from requests-oauthlib>=0.7.0->google-auth-oauthlib<0.5,>=0.4.1->tensorboard->keras-tuner) (3.2.0)\n",
            "Requirement already satisfied: tabulate in /usr/local/lib/python3.7/dist-packages (0.8.9)\n"
          ]
        }
      ],
      "source": [
        "# install packages\n",
        "\n",
        "!pip install tensorflow-gpu\n",
        "!pip install keras-tuner\n",
        "!pip install tabulate"
      ],
      "id": "a3971e0b"
    },
    {
      "cell_type": "code",
      "execution_count": 39,
      "metadata": {
        "id": "9db8d020"
      },
      "outputs": [],
      "source": [
        "import pandas as pd\n",
        "import numpy as np\n",
        "\n",
        "import tensorflow as tf\n",
        "from tensorflow import keras\n",
        "from tensorflow.keras.layers import Dense, Activation, Flatten\n",
        "import kerastuner\n"
      ],
      "id": "9db8d020"
    },
    {
      "cell_type": "code",
      "execution_count": 40,
      "metadata": {
        "id": "00f68282"
      },
      "outputs": [],
      "source": [
        "# load dataset\n",
        "\n",
        "df = pd.read_csv(\"/content/drive/MyDrive/FYP Dataset/January Data/Victoria Centre STH (JAN).csv\")"
      ],
      "id": "00f68282"
    },
    {
      "cell_type": "code",
      "execution_count": 41,
      "metadata": {
        "id": "de6e0t9ykUDW"
      },
      "outputs": [],
      "source": [
        "# converting date format into YY-mm-dd HH:MM:SS\n",
        "\n",
        "df['DateTime'] = pd.to_datetime(df['status.parkingRecord.parkingRecordStatus.parkingOccupancy.vehicleCountAndRate.measurementTimeDefault'], format=\"%Y-%m-%dT%H:%M:%S.%fZ\")"
      ],
      "id": "de6e0t9ykUDW"
    },
    {
      "cell_type": "code",
      "execution_count": 42,
      "metadata": {
        "id": "yDfvENJDnCvA"
      },
      "outputs": [],
      "source": [
        "# extracting features before training\n",
        "\n",
        "import time\n",
        "from datetime import datetime\n",
        "\n",
        "df['Date'] = pd.to_datetime(df['DateTime']).dt.date\n",
        "df['Hour'] = pd.to_datetime(df['DateTime']).dt.hour\n",
        "df['Minute'] = pd.to_datetime(df['DateTime']).dt.minute\n",
        "\n",
        "df['Date'] = pd.to_datetime(df['Date'])\n",
        "df['Weekday'] = df['Date'].dt.dayofweek\n",
        "\n",
        "df['Day'] = df['Date'].dt.day\n",
        "df['Month'] = df['Date'].dt.month\n"
      ],
      "id": "yDfvENJDnCvA"
    },
    {
      "cell_type": "code",
      "execution_count": 43,
      "metadata": {
        "id": "832b75f2"
      },
      "outputs": [],
      "source": [
        "#split data into train and test set\n",
        "from sklearn.model_selection import train_test_split\n",
        "\n",
        "X = df[['Day',\n",
        "        'Weekday',\n",
        "        'Hour',\n",
        "        'Minute']]\n",
        "y = df[['status.parkingRecord.parkingRecordStatus.parkingOccupancy.parkingOccupancy']]\n",
        "\n",
        "X_train, X_test, y_train, y_test = train_test_split(X, y, test_size = 0.2, random_state = 42)\n"
      ],
      "id": "832b75f2"
    },
    {
      "cell_type": "code",
      "execution_count": 44,
      "metadata": {
        "id": "547bb576"
      },
      "outputs": [],
      "source": [
        "#summary statistics of feature\n",
        "\n",
        "train_stats = X_train.describe()\n",
        "train_stats = train_stats.transpose()"
      ],
      "id": "547bb576"
    },
    {
      "cell_type": "code",
      "execution_count": 45,
      "metadata": {
        "id": "d420ef0e"
      },
      "outputs": [],
      "source": [
        "# normalise data\n",
        "\n",
        "def norm(x):\n",
        "  return (x - train_stats['mean']) / train_stats['std']\n",
        "normed_train_data = norm(X_train)\n",
        "normed_test_data = norm(X_test)"
      ],
      "id": "d420ef0e"
    },
    {
      "cell_type": "code",
      "execution_count": 46,
      "metadata": {
        "id": "rmf1VXQ4jBCv"
      },
      "outputs": [],
      "source": [
        "# ANN model architecture with hyperparameter tuning\n",
        "\n",
        "def build_model(hp):\n",
        "  model = keras.models.Sequential()\n",
        "\n",
        "  model.add(Dense(hp.Int(\"input_units\", 16, 256, 16), input_shape = [len(X.keys())]))\n",
        "  model.add(Activation('relu'))\n",
        "\n",
        "  for i in range(hp.Int(\"layers\", 2, 6)):\n",
        "    model.add(Dense(hp.Int(f\"conv_{i}_units\", 16, 256, 16)))\n",
        "    model.add(Activation('relu'))\n",
        "\n",
        "  model.add(Dense(1))\n",
        "  \n",
        "  model.compile(optimizer=tf.keras.optimizers.RMSprop(hp.Choice('learning_rate', values = [0.01, 0.001, 0.0001])), loss = \"mse\", metrics = [\"mae\", \"mse\"])\n",
        "\n",
        "  return model"
      ],
      "id": "rmf1VXQ4jBCv"
    },
    {
      "cell_type": "code",
      "execution_count": 47,
      "metadata": {
        "id": "S37e6bfYrkKA",
        "colab": {
          "base_uri": "https://localhost:8080/"
        },
        "outputId": "4c1ed033-fc14-40d7-9424-8974f8935cf5"
      },
      "outputs": [
        {
          "output_type": "stream",
          "name": "stdout",
          "text": [
            "INFO:tensorflow:Reloading Oracle from existing project ./untitled_project/oracle.json\n"
          ]
        }
      ],
      "source": [
        "# hyperparameter tuning\n",
        "\n",
        "from kerastuner.tuners import RandomSearch\n",
        "from kerastuner.engine.hyperparameters import HyperParameters\n",
        "\n",
        "tuner = RandomSearch(\n",
        "    build_model,\n",
        "    objective = \"mse\",\n",
        "    max_trials = 2,\n",
        "    executions_per_trial = 3\n",
        ")"
      ],
      "id": "S37e6bfYrkKA"
    },
    {
      "cell_type": "code",
      "execution_count": 48,
      "metadata": {
        "id": "b7h3zi5mR0Zf"
      },
      "outputs": [],
      "source": [
        "# early stopping\n",
        " \n",
        "early_stopping = tf.keras.callbacks.EarlyStopping('val_loss', patience = 10)"
      ],
      "id": "b7h3zi5mR0Zf"
    },
    {
      "cell_type": "code",
      "execution_count": 49,
      "metadata": {
        "colab": {
          "base_uri": "https://localhost:8080/"
        },
        "id": "l2P0FTvu2Iew",
        "outputId": "56d8b0cc-4218-4396-f95b-1150fcbf7c8d"
      },
      "outputs": [
        {
          "output_type": "stream",
          "name": "stdout",
          "text": [
            "Trial 2 Complete [00h 00m 13s]\n",
            "mse: 56.7587636311849\n",
            "\n",
            "Best mse So Far: 56.7587636311849\n",
            "Total elapsed time: 00h 00m 31s\n",
            "INFO:tensorflow:Oracle triggered exit\n"
          ]
        }
      ],
      "source": [
        "# Start training\n",
        "\n",
        "tuner.search(x = normed_train_data, # training input\n",
        "             y = y_train,       # training label\n",
        "             epochs = 200,      # set epoch\n",
        "             batch_size=64,     # set batch size\n",
        "             validation_data=(normed_test_data, y_test),  # validation data\n",
        "             callbacks = [early_stopping])    #early stopping function"
      ],
      "id": "l2P0FTvu2Iew"
    },
    {
      "cell_type": "code",
      "execution_count": 50,
      "metadata": {
        "id": "sgSCHzgNz_im",
        "colab": {
          "base_uri": "https://localhost:8080/"
        },
        "outputId": "15b42b22-26ee-4314-b5b2-e2b1cf47f4d4"
      },
      "outputs": [
        {
          "output_type": "stream",
          "name": "stdout",
          "text": [
            "Results summary\n",
            "Results in ./untitled_project\n",
            "Showing 10 best trials\n",
            "<keras_tuner.engine.objective.Objective object at 0x7fbcb0177e90>\n",
            "Trial summary\n",
            "Hyperparameters:\n",
            "input_units: 16\n",
            "layers: 5\n",
            "conv_0_units: 240\n",
            "conv_1_units: 176\n",
            "learning_rate: 0.01\n",
            "conv_2_units: 144\n",
            "conv_3_units: 160\n",
            "conv_4_units: 16\n",
            "Score: 56.7587636311849\n",
            "Trial summary\n",
            "Hyperparameters:\n",
            "input_units: 112\n",
            "layers: 4\n",
            "conv_0_units: 64\n",
            "conv_1_units: 240\n",
            "learning_rate: 0.01\n",
            "conv_2_units: 16\n",
            "conv_3_units: 16\n",
            "Score: 59.66673151652018\n"
          ]
        }
      ],
      "source": [
        "tuner.results_summary()"
      ],
      "id": "sgSCHzgNz_im"
    },
    {
      "cell_type": "code",
      "source": [
        ""
      ],
      "metadata": {
        "id": "9a-pqOl2uxc9"
      },
      "id": "9a-pqOl2uxc9",
      "execution_count": null,
      "outputs": []
    },
    {
      "cell_type": "code",
      "execution_count": 51,
      "metadata": {
        "id": "ZaHkVuS1WSV4"
      },
      "outputs": [],
      "source": [
        "# get best model\n",
        "best_model = tuner.get_best_models()[0]"
      ],
      "id": "ZaHkVuS1WSV4"
    },
    {
      "cell_type": "code",
      "execution_count": 52,
      "metadata": {
        "id": "MWrk3tzf1N6S",
        "colab": {
          "base_uri": "https://localhost:8080/",
          "height": 295
        },
        "outputId": "3f671932-c26d-44b5-edd2-c187c56c68e7"
      },
      "outputs": [
        {
          "output_type": "display_data",
          "data": {
            "text/plain": [
              "<Figure size 432x288 with 1 Axes>"
            ],
            "image/png": "[encoded data removed]"
          },
          "metadata": {
            "needs_background": "light"
          }
        }
      ],
      "source": [
        "# plot graph of Prediction value against True value\n",
        "\n",
        "import matplotlib.pyplot as plt\n",
        "\n",
        "test_predictions = best_model.predict(normed_test_data)\n",
        "\n",
        "plt.scatter(y_test, test_predictions)\n",
        "plt.title('Parking Occupancy')\n",
        "plt.xlabel('True Value (%)')\n",
        "plt.ylabel('Predictions (%)')\n",
        "plt.axis('equal')\n",
        "plt.axis('square')\n",
        "plt.xlim( [0,plt.xlim()[1]])\n",
        "plt.ylim( [0,plt.ylim()[1]])\n",
        "_ = plt.plot([-100, 100], [-100, 100])\n",
        " \n",
        "plt.savefig(\"/content/drive/MyDrive/Colab Notebooks/Model Validation/Victoria Centre STH.jpg\")"
      ],
      "id": "MWrk3tzf1N6S"
    },
    {
      "cell_type": "code",
      "execution_count": 53,
      "metadata": {
        "id": "9096c66b",
        "colab": {
          "base_uri": "https://localhost:8080/"
        },
        "outputId": "6cfac45b-478d-4645-ce47-f89b0454dbdc"
      },
      "outputs": [
        {
          "output_type": "stream",
          "name": "stdout",
          "text": [
            "----  --------\n",
            "MSE   27.6703\n",
            "RMSE   5.26026\n",
            "MAE    4.01688\n",
            "----  --------\n"
          ]
        }
      ],
      "source": [
        "# show metrics\n",
        "\n",
        "from tabulate import tabulate\n",
        "from sklearn.metrics import mean_squared_error, mean_absolute_error, r2_score\n",
        "\n",
        "MSE = mean_squared_error(y_test, test_predictions)\n",
        "RMSE = np.sqrt(mean_squared_error(y_test, test_predictions))\n",
        "MAE = mean_absolute_error(y_test, test_predictions)\n",
        "\n",
        "print(tabulate([[\"MSE\",MSE],[\"RMSE\",RMSE], [\"MAE\", MAE]]))\n"
      ],
      "id": "9096c66b"
    },
    {
      "cell_type": "code",
      "execution_count": 54,
      "metadata": {
        "id": "AcdfS_DFHsRh"
      },
      "outputs": [],
      "source": [
        "# save model\n",
        "\n",
        "best_model.save('/content/drive/MyDrive/Colab Notebooks/V4/Victoria Centre STH.h5')"
      ],
      "id": "AcdfS_DFHsRh"
    },
    {
      "cell_type": "code",
      "source": [
        ""
      ],
      "metadata": {
        "id": "Su2tgz91eXd9"
      },
      "id": "Su2tgz91eXd9",
      "execution_count": 54,
      "outputs": []
    }
  ],
  "metadata": {
    "accelerator": "GPU",
    "colab": {
      "collapsed_sections": [],
      "machine_shape": "hm",
      "name": "Parking Occupancy Prediction Model.ipynb",
      "provenance": []
    },
    "kernelspec": {
      "display_name": "Python 3 (ipykernel)",
      "language": "python",
      "name": "python3"
    },
    "language_info": {
      "codemirror_mode": {
        "name": "ipython",
        "version": 3
      },
      "file_extension": ".py",
      "mimetype": "text/x-python",
      "name": "python",
      "nbconvert_exporter": "python",
      "pygments_lexer": "ipython3",
      "version": "3.9.7"
    }
  },
  "nbformat": 4,
  "nbformat_minor": 5
}